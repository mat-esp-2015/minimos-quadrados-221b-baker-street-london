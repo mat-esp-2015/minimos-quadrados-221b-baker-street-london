{
 "cells": [
  {
   "cell_type": "markdown",
   "metadata": {},
   "source": [
    "# Método dos Mínimos Quadrados (MMQ)"
   ]
  },
  {
   "cell_type": "markdown",
   "metadata": {},
   "source": [
    "## License\n",
    "\n",
    "All content can be freely used and adapted under the terms of the \n",
    "[Creative Commons Attribution 4.0 International License](http://creativecommons.org/licenses/by/4.0/).\n",
    "\n",
    "![Creative Commons License](https://i.creativecommons.org/l/by/4.0/88x31.png)"
   ]
  },
  {
   "cell_type": "markdown",
   "metadata": {},
   "source": [
    "## Imports\n",
    "\n",
    "Coloque **todos** os `import` na célula abaixo. Não se esqueça do `%matplotlib inline` para que os gráficos apareçam no notebook."
   ]
  },
  {
   "cell_type": "code",
   "execution_count": 1,
   "metadata": {
    "collapsed": true
   },
   "outputs": [],
   "source": [
    "import numpy as np\n",
    "%matplotlib inline\n",
    "import matplotlib.pyplot as plt"
   ]
  },
  {
   "cell_type": "markdown",
   "metadata": {},
   "source": [
    "## IMPORTANTE\n",
    "\n",
    "Agora que vocês sabem técnicas de programação defensiva, eu espero que todo o código que vocês fizerem abaixo utilizem essas técnicas. Crie docstrings para suas funções, cheque as entradas (quando for possível) e cheque as saídas. **Não esqueçam dos comentários**."
   ]
  },
  {
   "cell_type": "markdown",
   "metadata": {},
   "source": [
    "## Fabricando dados para teste\n",
    "\n",
    "Para saber se nosso código está funcionando, precisamos fabricar alguns dados com parâmetros conhecidos. Vamos gerar dados que seguem a equação da reta:\n",
    "\n",
    "$$\n",
    "d_i = a x_i + b\n",
    "$$"
   ]
  },
  {
   "cell_type": "markdown",
   "metadata": {},
   "source": [
    "**IMPORTANTE**: Eu vou usar a biblioteca numpy as gerar os dados abaixo. \n",
    "Vocês **não podem** utilizar o numpy para calcular a sua solução.\n",
    "Uso do numpy deve ser conquistado com ~~sangue~~esforço.\n",
    "O código abaixo serve como exemplo do que vocês poderão fazer ao utilizar o Python no seu trabalho (fora da aula)."
   ]
  },
  {
   "cell_type": "code",
   "execution_count": 2,
   "metadata": {
    "collapsed": false
   },
   "outputs": [],
   "source": [
    "a = 10\n",
    "b = 50\n",
    "N = 50\n",
    "# Vou utilizar a função linspace do numpy para facilitar a vida\n",
    "# Essa função cria N valores igualmente espaçados entre dois números (5 e 50)\n",
    "x = np.linspace(5, 50, N)\n",
    "# Agora podemos usar os valores de x, a e b acima para simular dados observados\n",
    "dados_obs = a*x + b\n",
    "# Vamos adicionar erro aleatório aos dados para ficar mais interessante\n",
    "# O erro seguirá uma distribuição normal com os seguintes parâmetros\n",
    "media_erro = 0\n",
    "std_erro = 20\n",
    "# A linha abaixo faz com que os valores aleatórios não sejam verdadeiramente aleatórios\n",
    "# veja https://en.wikipedia.org/wiki/Pseudorandom_number_generator\n",
    "np.random.seed(42)\n",
    "# Gera a lista de numéros aleatórios\n",
    "erro = np.random.normal(loc=media_erro, scale=std_erro, size=len(dados_obs))\n",
    "# Agora podemos adicionar o erro aos dados observados\n",
    "dados_obs += erro"
   ]
  },
  {
   "cell_type": "markdown",
   "metadata": {},
   "source": [
    "Utilize a célula abaixo para gerar um gráfico de círculos pretos (`ok`) de seus dados."
   ]
  },
  {
   "cell_type": "code",
   "execution_count": 3,
   "metadata": {
    "collapsed": false
   },
   "outputs": [
    {
     "data": {
      "text/plain": [
       "<matplotlib.text.Text at 0x6e524a8>"
      ]
     },
     "execution_count": 3,
     "metadata": {},
     "output_type": "execute_result"
    },
    {
     "data": {
      "image/png": "[encoded data removed]",
      "text/plain": [
       "<matplotlib.figure.Figure at 0x6e24710>"
      ]
     },
     "metadata": {},
     "output_type": "display_data"
    }
   ],
   "source": [
    "# Cria um gráfico.\n",
    "plt.figure()\n",
    "# Plota os valores das coordenadas x, y em bolas pretas.\n",
    "plt.plot(x, dados_obs, \"ok\")\n",
    "# Coloca título no gráfico.\n",
    "plt.title(\"Gráfico 1\")\n",
    "# Dá título ao eixo x.\n",
    "plt.xlabel(\"Valores\")\n",
    "# Dá título ao eixo y.\n",
    "plt.ylabel(\"Dados Observados\")"
   ]
  },
  {
   "cell_type": "markdown",
   "metadata": {},
   "source": [
    "## Forma matricial da equação da reta e a matriz Jacobiana\n",
    "\n",
    "Temos uma equação da reta para cada valor de $x_i$:\n",
    "\n",
    "$$\n",
    "\\begin{align}\n",
    "d_1 &= ax_1 + b \\\\\n",
    "d_2 &= ax_2 + b \\\\\n",
    "\\vdots \\\\\n",
    "d_N &= ax_N + b \\\\\n",
    "\\end{align}\n",
    "$$\n",
    "\n",
    "Esse sistema pode ser escrito de forma matricial com os parâmetros sendo $a$ e $b$:\n",
    "\n",
    "$$\n",
    "\\begin{bmatrix}\n",
    "d_1 \\\\ d_2 \\\\ \\vdots \\\\ d_N \n",
    "\\end{bmatrix} = \n",
    "\\begin{bmatrix}\n",
    "x_1 & 1 \\\\\n",
    "x_2 & 1 \\\\\n",
    "\\vdots & \\vdots \\\\\n",
    "x_N & 1\n",
    "\\end{bmatrix}\n",
    "\\begin{bmatrix}\n",
    "a \\\\ b\n",
    "\\end{bmatrix}\n",
    "$$\n",
    "\n",
    "$$\n",
    "\\bar{d} = \\bar{\\bar{A}}\\bar{p}\n",
    "$$"
   ]
  },
  {
   "cell_type": "markdown",
   "metadata": {},
   "source": [
    "## Tarefa\n",
    "\n",
    "Faça uma função chamada `jacobiana` que calcule e retorne a matrix Jacobiana ($\\bar{\\bar{A}}$). \n",
    "\n",
    "**Para pensar**: o que essa função deve receber como argumento? (**Dica**: ela só precisa de 1)"
   ]
  },
  {
   "cell_type": "code",
   "execution_count": 4,
   "metadata": {
    "collapsed": false
   },
   "outputs": [],
   "source": [
    "# Criamos uma função que retorna a matriz Jacobiana\n",
    "def jacobiana(x):\n",
    "    \"\"\"Cria uma matriz Jacobiana:\n",
    "    Ex: [[x1,1],[x2,1]]\"\"\"\n",
    "# Criamos esta lista vazia para fazermos a matriz Jacobiana\n",
    "    jacobiana = []\n",
    "# Este loop adiciona linhas no formato x,1 de x1 até xN.\n",
    "    for i in range(N):\n",
    "        jacobiana.append([x[i],1])\n",
    "    return jacobiana"
   ]
  },
  {
   "cell_type": "code",
   "execution_count": 5,
   "metadata": {
    "collapsed": false
   },
   "outputs": [],
   "source": [
    "# Atribui a uma variavél a matriz jacobiana\n",
    "jac = jacobiana(x)"
   ]
  },
  {
   "cell_type": "code",
   "execution_count": null,
   "metadata": {
    "collapsed": true
   },
   "outputs": [],
   "source": []
  },
  {
   "cell_type": "markdown",
   "metadata": {},
   "source": [
    "### Resultado esperado\n",
    "\n",
    "A célula abaixo testa a sua Jacobiana contra uma produzida pelo numpy."
   ]
  },
  {
   "cell_type": "code",
   "execution_count": 6,
   "metadata": {
    "collapsed": false
   },
   "outputs": [],
   "source": [
    "assert np.allclose(jacobiana(x), np.transpose([x, np.ones_like(x)]))"
   ]
  },
  {
   "cell_type": "code",
   "execution_count": null,
   "metadata": {
    "collapsed": true
   },
   "outputs": [],
   "source": []
  },
  {
   "cell_type": "code",
   "execution_count": null,
   "metadata": {
    "collapsed": true
   },
   "outputs": [],
   "source": []
  },
  {
   "cell_type": "markdown",
   "metadata": {},
   "source": [
    "## Tarefa\n",
    "\n",
    "Calcule dados preditos para o vetor de parâmetros definido abaixo **utilizando a forma matricial da equação**. Guarde o resultado em uma variável chamada `preditos`. \n",
    "\n",
    "Faça um gráfico dos dados observados (gerados acima) como pontos pretos e os dados preditos que você calculou como uma linha vermelha.\n",
    "\n",
    "**Dica**: utilize as funções que você criou na aula passada.\n"
   ]
  },
  {
   "cell_type": "code",
   "execution_count": 7,
   "metadata": {
    "collapsed": true
   },
   "outputs": [],
   "source": [
    "p = [5, 15]"
   ]
  },
  {
   "cell_type": "code",
   "execution_count": 8,
   "metadata": {
    "collapsed": true
   },
   "outputs": [],
   "source": [
    "# Cria uma funçao que multiplica matriz por vetor.\n",
    "def vmult(m ,v):\n",
    "    # Docstring\n",
    "    \"\"\"\n",
    "    Multiplica uma matriz por um vetor\n",
    "    \"\"\"\n",
    "    assert len(m[0]) == len(v), 'Número de colunas da matriz diferente do número de linhas do vetor.'\n",
    "    # Cria uma lista vazia.\n",
    "    U = []\n",
    "    # Faz um loop que percorre as linhas da matriz.\n",
    "    for i in range(len(m)):\n",
    "        # Cria uma variavel que recebe o valor zero.\n",
    "        soma = 0\n",
    "        # Faz um loop que percorre as colunas da matriz.\n",
    "        for k in range(len(m[0])):\n",
    "            # Realiza a multiplicaçao de matriz por vetor.\n",
    "            soma = soma + (m[i][k]*v[k])\n",
    "        # Adiciona os resultados a lista nova gerada. \n",
    "        U.append(soma)\n",
    "    return U"
   ]
  },
  {
   "cell_type": "code",
   "execution_count": 9,
   "metadata": {
    "collapsed": false
   },
   "outputs": [],
   "source": [
    "# Atribui a uma variável a multiplicação da matriz transposta pelo vetor.\n",
    "preditos = vmult(jac,p)"
   ]
  },
  {
   "cell_type": "code",
   "execution_count": 133,
   "metadata": {
    "collapsed": false
   },
   "outputs": [
    {
     "data": {
      "text/plain": [
       "<matplotlib.text.Text at 0x7f43591b74a8>"
      ]
     },
     "execution_count": 133,
     "metadata": {},
     "output_type": "execute_result"
    },
    {
     "data": {
      "image/png": "[encoded data removed]",
      "text/plain": [
       "<matplotlib.figure.Figure at 0x7f43592c7a58>"
      ]
     },
     "metadata": {},
     "output_type": "display_data"
    }
   ],
   "source": [
    "# Cria um gráfico.\n",
    "plt.figure()\n",
    "# Plota os valores das coordenadas x, y em bolas pretas.\n",
    "plt.plot(x, dados_obs, \"ok\")\n",
    "# Plota os valores das coordenadas x, y em uma linha vermelha.\n",
    "plt.plot(x, preditos, \"-r\")\n",
    "# Coloca título no gráfico.\n",
    "plt.title(\"Gráfico 2\")"
   ]
  },
  {
   "cell_type": "markdown",
   "metadata": {},
   "source": [
    "### Resultado esperado\n",
    "\n",
    "A célula abaixo testa seus resultados contra um calculado com o numpy."
   ]
  },
  {
   "cell_type": "code",
   "execution_count": 10,
   "metadata": {
    "collapsed": false
   },
   "outputs": [],
   "source": [
    "assert np.allclose(preditos, np.dot(jacobiana(x), p))"
   ]
  },
  {
   "cell_type": "code",
   "execution_count": null,
   "metadata": {
    "collapsed": true
   },
   "outputs": [],
   "source": []
  },
  {
   "cell_type": "code",
   "execution_count": null,
   "metadata": {
    "collapsed": true
   },
   "outputs": [],
   "source": []
  },
  {
   "cell_type": "markdown",
   "metadata": {},
   "source": [
    "O gráfico deve ser parecido com o abaixo:\n",
    "\n",
    "![images/preditos-esperado.png](images/preditos-esperado.png)\n"
   ]
  },
  {
   "cell_type": "markdown",
   "metadata": {},
   "source": [
    "## Sistema de equações normais\n",
    "\n",
    "A solução de mínimos quadrados é o vetor $\\bar{p}$ que resolve o sistema linear abaixo (chamado de sistema de equações normais):\n",
    "\n",
    "$$\n",
    "\\bar{\\bar{A}}^T\\bar{\\bar{A}}\\bar{p} = \\bar{\\bar{A}}^T\\bar{d}^o\n",
    "$$\n",
    "\n",
    "Para resolver esse sistema, precisamos primeiramente calcular a matriz do sistema $\\bar{\\bar{A}}^T\\bar{\\bar{A}}$ e o vetor do lado direito $\\bar{\\bar{A}}^T\\bar{d}^o$."
   ]
  },
  {
   "cell_type": "markdown",
   "metadata": {},
   "source": [
    "## Tarefa\n",
    "\n",
    "Faça uma função chamada `eqnormais_sistema` que calcule e retorne a matriz $\\bar{\\bar{A}}^T\\bar{\\bar{A}}$ dada a matriz Jacobiana.\n",
    "\n",
    "Utilize as funções criadas na aula anterior.\n",
    "\n",
    "**Dica**: É possível saber quantas linhas e colunas o sistema deve conter. Cheque se o seu resultado possui esse número."
   ]
  },
  {
   "cell_type": "code",
   "execution_count": 11,
   "metadata": {
    "collapsed": false
   },
   "outputs": [],
   "source": [
    "def transpm(m):#matriz m\n",
    "    #docstring\n",
    "    \"\"\"\n",
    "    Pega uma matriz qualquer e retorna sua transposta. \n",
    "    Exemplos:\n",
    "    M = [[1, 2], [3, 4]]\n",
    "    transpm(M) = [[1, 3], [2, 4]]\n",
    "    \"\"\"\n",
    "    for i in range(1,len(m),1):\n",
    "        #garante que todas as linhas da matriz estão completas com o mesmo número de elementos\n",
    "        assert len(m[i]) == len(m[i - 1]), \"Alguma linha da matriz não apresenta o mesmo número de elementos das outras\"\n",
    "    Mt = [] #lista vazia representando a matriz Mt transposta de m\n",
    "    for i in range(len(m[0])):#i variando no número de colunas de m\n",
    "        U = []\n",
    "        for j in range(len(m)):# j variando no número de linhas de m\n",
    "            L = m[j][i] #pega o elemento da posição i da linha j\n",
    "            U.append(L) #adiciona a U o elemento na posição i de cada coluna\n",
    "        Mt.append(U) #adiciona a Mt cada lista U  \n",
    "    return(Mt)      \n",
    "\n",
    "\n",
    "# Define a função multiplicaçao de matrizes.\n",
    "def mmult(m1, m2):\n",
    "    # Docstring\n",
    "    \"\"\" \n",
    "    Multiplica duas matrizes\n",
    "    \"\"\"\n",
    "    # Se certifica de que o número de colunas de uma matriz é igual ao numero de linhas de outra.\n",
    "    assert len(m1[0]) == len(m2), \"Número de Colunas de A != Número de Linhas de B\"\n",
    "    # Cria uma lista vazia.\n",
    "    C = []\n",
    "    # Faz um loop que percorre todas as linhas da matriz. \n",
    "    for i in range(len(m1)):\n",
    "        # Adiciona valores a lista C.\n",
    "        C.append([])\n",
    "        # Faz um loop que percorre todas as colunas da matriz 2.\n",
    "        for j in range(len(m2[0])):\n",
    "            # Cria uma variavel que recebe o valor zero.\n",
    "            soma = 0\n",
    "            # Faz um loop nas colunas da matriz 1.\n",
    "            for k in range(len(m1[0])):\n",
    "                # Realiza o somatorio da muitiplicacao das matrizes.\n",
    "                soma = soma + (m1[i][k]*m2[k][j])\n",
    "            # Adiciona o resultado a matriz criada.\n",
    "            C[i].append(soma)\n",
    "    # Retorna o valor de C.\n",
    "    return C"
   ]
  },
  {
   "cell_type": "code",
   "execution_count": 12,
   "metadata": {
    "collapsed": false
   },
   "outputs": [],
   "source": [
    "# Define uma função eqnormais_sistema.\n",
    "def eqnormais_sistema(x):\n",
    "    # Docstring\n",
    "    \"\"\"Realiza a multiplicação da matriz jacobiana transposta pela matriz jacobiana\"\"\"\n",
    "    # Retorna o valor da multiplicação da nova função.\n",
    "    return mmult(transpm(x),x) "
   ]
  },
  {
   "cell_type": "code",
   "execution_count": 13,
   "metadata": {
    "collapsed": false
   },
   "outputs": [],
   "source": [
    "# Função que multiplica a jacobiana transposta pela jacobiana.\n",
    "resultado = eqnormais_sistema(jac)"
   ]
  },
  {
   "cell_type": "markdown",
   "metadata": {},
   "source": [
    "### Resultado esperado\n",
    "\n",
    "A célula abaixo testa seus resultados contra um calculado com o numpy."
   ]
  },
  {
   "cell_type": "code",
   "execution_count": 14,
   "metadata": {
    "collapsed": false
   },
   "outputs": [],
   "source": [
    "assert np.allclose(eqnormais_sistema(jacobiana(x)), np.transpose(jacobiana(x)).dot(jacobiana(x)))"
   ]
  },
  {
   "cell_type": "code",
   "execution_count": null,
   "metadata": {
    "collapsed": true
   },
   "outputs": [],
   "source": []
  },
  {
   "cell_type": "code",
   "execution_count": null,
   "metadata": {
    "collapsed": true
   },
   "outputs": [],
   "source": []
  },
  {
   "cell_type": "markdown",
   "metadata": {},
   "source": [
    "## Tarefa\n",
    "\n",
    "Faça uma função chamada `eqnormais_lado_direito` que calcule e retorne o vetor do lado direito do sistema de equações normais.\n",
    "\n",
    "**Dicas**: \n",
    "\n",
    "* Essa função deve receber 2 argumentos. \n",
    "* O que essa função deve retornar é um vetor ou matriz?\n",
    "* É possível saber o número de elementos que o resultado deve conter. Cheque esse número."
   ]
  },
  {
   "cell_type": "code",
   "execution_count": 15,
   "metadata": {
    "collapsed": true
   },
   "outputs": [],
   "source": [
    "# Cria uma função eqnormais_lado_direito.\n",
    "def eqnormais_lado_direito(x,y):\n",
    "    \"\"\"Realiza a multiplicação da matriz jacobiana transposta por um vetor\"\"\"\n",
    "    # Retorna a multiplicação da jacobiana transposta pelos dados observados.\n",
    "    return vmult(transpm(x),y)\n",
    "\n",
    "    "
   ]
  },
  {
   "cell_type": "code",
   "execution_count": 16,
   "metadata": {
    "collapsed": false
   },
   "outputs": [],
   "source": [
    "jact = transpm(jac)"
   ]
  },
  {
   "cell_type": "code",
   "execution_count": 17,
   "metadata": {
    "collapsed": false
   },
   "outputs": [],
   "source": [
    "resultado = eqnormais_lado_direito(jac,dados_obs)"
   ]
  },
  {
   "cell_type": "code",
   "execution_count": 18,
   "metadata": {
    "collapsed": false
   },
   "outputs": [],
   "source": [
    "assert len(resultado) == len(jact), \"Número de linhas do resultado é diferente do número de linhas da transposta.\""
   ]
  },
  {
   "cell_type": "markdown",
   "metadata": {},
   "source": [
    "### Resultado esperado\n",
    "\n",
    "A célula abaixo testa seus resultados contra um calculado com o numpy."
   ]
  },
  {
   "cell_type": "code",
   "execution_count": 19,
   "metadata": {
    "collapsed": false
   },
   "outputs": [],
   "source": [
    "assert np.allclose(eqnormais_lado_direito(jacobiana(x), dados_obs), np.transpose(jacobiana(x)).dot(dados_obs))"
   ]
  },
  {
   "cell_type": "code",
   "execution_count": null,
   "metadata": {
    "collapsed": true
   },
   "outputs": [],
   "source": []
  },
  {
   "cell_type": "code",
   "execution_count": null,
   "metadata": {
    "collapsed": true
   },
   "outputs": [],
   "source": []
  },
  {
   "cell_type": "markdown",
   "metadata": {},
   "source": [
    "## Solução de mínimos quadrados\n",
    "\n",
    "Agora que temos o sistema de equações normais, podemos resolvê-lo numericamente para encontrar os valores de $a$ e $b$ que produzem a reta que melhor ajusta nossos dados."
   ]
  },
  {
   "cell_type": "markdown",
   "metadata": {},
   "source": [
    "## Tarefa\n",
    "\n",
    "Faça uma função chamada `elim_gauss` que resolve um sistema de equações utilizando a eliminação de Gauss. Essa função deve receber como argumento a matriz do sistema e o vetor lado direito e retornar o vetor de solução.\n",
    "\n",
    "**Dicas**:\n",
    "\n",
    "* Cheque o número de elementos na matriz e no vetor.\n",
    "* A matriz deve ser quadrada."
   ]
  },
  {
   "cell_type": "code",
   "execution_count": 20,
   "metadata": {
    "collapsed": false
   },
   "outputs": [],
   "source": [
    "def elim_gauss(A,x):\n",
    "    \"\"\"Realiza o escalonamento e resolve o sistema linear\"\"\"\n",
    "    # Feito um loop para rodar a cada linha, sendo k o indice delas. A ultima linha não é utilizada pois não há nada além\n",
    "    for k in range (0, len(A)-1, 1):\n",
    "        # Feito um loop que começa a partir da segunda linha, o indice i indica as colunas.\n",
    "        for i in range (k+1, len(A[0]), 1):\n",
    "            # Criada uma variável para guardar os valores que escalonam a matriz.\n",
    "            temp = -A[i][k]/A[k][k]\n",
    "            # Feito um loop para pegar todas as linhas da matriz. 'k' não é usada pois ignora a última linha. Aqui acontece o escalonamento.\n",
    "            for j in range (k, len(A), 1):\n",
    "                # Operação para escalonar a matriz sistema\n",
    "                A[i][j] = A[i][j] + A[k][j] * temp\n",
    "            # Operação para gerar o novo resultado do vetor lado direito\n",
    "            x[i] = x[i] + x[k] * temp\n",
    "    vetor_y = [0]*len(A)\n",
    "    # Loop para linhas\n",
    "    for k in range(len(A)-1, -1, -1):\n",
    "    # Loop para colunas que o código usará. Elas vão aumentando a cada vez que roda o programa\n",
    "        for i in range(len(A[0])-1, k, -1):\n",
    "    # Y é somatório do produto de cada solução por cada elemento correspondente da matriz sistema\n",
    "            vetor_y[k] = vetor_y[k] + (vetor_y[i]*A[k][i])\n",
    "    # Segunda parte da operação. lado_direito[k] está aqui pq só é usado 1 vez para cada linha.\n",
    "        vetor_y[k] = (x[k] - vetor_y[k]) / A[k][k]\n",
    "    return vetor_y\n"
   ]
  },
  {
   "cell_type": "code",
   "execution_count": null,
   "metadata": {
    "collapsed": false
   },
   "outputs": [],
   "source": []
  },
  {
   "cell_type": "code",
   "execution_count": null,
   "metadata": {
    "collapsed": false
   },
   "outputs": [],
   "source": []
  },
  {
   "cell_type": "markdown",
   "metadata": {},
   "source": [
    "### Resultado esperado\n",
    "\n",
    "A célula abaixo testa seus resultados contra um calculado com o numpy."
   ]
  },
  {
   "cell_type": "code",
   "execution_count": 21,
   "metadata": {
    "collapsed": false
   },
   "outputs": [],
   "source": [
    "np.random.seed(42)\n",
    "A_teste = np.random.uniform(10, 50, size=(21, 21))\n",
    "x_teste = np.random.uniform(5, 20, size=21)\n",
    "y_teste = A_teste.dot(x_teste)\n",
    "assert np.allclose(elim_gauss(A_teste, y_teste), x_teste)"
   ]
  },
  {
   "cell_type": "code",
   "execution_count": null,
   "metadata": {
    "collapsed": true
   },
   "outputs": [],
   "source": []
  },
  {
   "cell_type": "code",
   "execution_count": null,
   "metadata": {
    "collapsed": true
   },
   "outputs": [],
   "source": []
  },
  {
   "cell_type": "markdown",
   "metadata": {},
   "source": [
    "## Tarefa\n",
    "\n",
    "Faça uma função `ajuste_reta` que recebe um vetor de valores de x e um de dados observados e retorna a solução de minimos quadrados $\\bar{p}$ (vetor com os valores de $a$ e $b$ estimados).\n",
    "\n",
    "Aplique essa função nos dados observados simulados acima. Cheque se a solução bate com o valor esperado (você pode fazer isso usando um `assert`). \n",
    "\n",
    "Faça um gráfico dos dados observados (pontos pretos) pelos dados preditos pela solução que você obteve agora (linha vermelha). O gráfico deve conter uma legenda. A legenda para os dados preditos deve ser da forma \"y = 234x + 244\" (trocando os números pelos valores que você estimou).\n",
    "\n",
    "**Dica**:r\n",
    "\n",
    "* Quantos elementos deve ter o vetor retornado?\n",
    "* Para inserir números em uma string (texto): `\"y = {}\".format(123.1)\"` $\\to$ `\"y = 123.1\"`\n",
    "* Para formatar os números que você quer inserir numa string: `\"y = {:.4f}\".format(123.242524536362446353436335)` $\\to$  `\"y = 123.2425\"`"
   ]
  },
  {
   "cell_type": "code",
   "execution_count": 22,
   "metadata": {
    "collapsed": false
   },
   "outputs": [],
   "source": [
    "# Define a função ajuste_reta\n",
    "def ajuste_reta(x,y):\n",
    "    \"\"\"Retorna a solução dos mínimos quadrados, dando o vetor de parâmetros\"\"\"\n",
    "    vetor = eqnormais_lado_direito(jacobiana(x),y)\n",
    "    matriz = eqnormais_sistema(jacobiana(x))\n",
    "    p = elim_gauss(matriz, vetor)\n",
    "    return p\n",
    "# O Arthur sugeriu a seguinte linha de código para a função:\n",
    "# return elim_gauss(eqnormais_sistema(jacobiana(x)),eqnormais_lado_direito(jacobiana(x),y)). Mas ele foi minoria no grupo."
   ]
  },
  {
   "cell_type": "code",
   "execution_count": 23,
   "metadata": {
    "collapsed": false,
    "scrolled": true
   },
   "outputs": [
    {
     "name": "stdout",
     "output_type": "stream",
     "text": [
      "[9.7422960022585752, 52.577381832766335]\n"
     ]
    }
   ],
   "source": [
    "d = ajuste_reta(x,dados_obs)\n",
    "print(d)\n"
   ]
  },
  {
   "cell_type": "code",
   "execution_count": 24,
   "metadata": {
    "collapsed": false
   },
   "outputs": [],
   "source": [
    "\"a = {:.4f}\".format(9.7422960022585752)\n",
    "\"b = {:.4f}\".format(52.577381832766335)\n",
    "y = a*x + b"
   ]
  },
  {
   "cell_type": "code",
   "execution_count": 25,
   "metadata": {
    "collapsed": false
   },
   "outputs": [
    {
     "data": {
      "image/png": "[encoded data removed]",
      "text/plain": [
       "<matplotlib.figure.Figure at 0x6e668d0>"
      ]
     },
     "metadata": {},
     "output_type": "display_data"
    }
   ],
   "source": [
    "# Cria um gráfico.\n",
    "plt.figure()\n",
    "# Plota os valores das coordenadas x, y em bolas pretas.\n",
    "plt.plot(x, dados_obs, \"ok\", label='Dados observados')\n",
    "plt.plot(x, y, \"-r\", linewidth=3, label='y = 9.742x + 52.577')\n",
    "#legenda\n",
    "legend = plt.legend(loc='upper left', shadow=True, fontsize='large')\n",
    "# Dá título ao eixo x.\n",
    "plt.xlabel(\"x\")\n",
    "# Dá título ao eixo y.\n",
    "plt.ylabel(\"y\")\n",
    "# Colocamos legenda bege porque somos diferenciados\n",
    "legend.get_frame().set_facecolor('#F5F5DC')"
   ]
  },
  {
   "cell_type": "markdown",
   "metadata": {},
   "source": [
    "### Resultado esperado\n",
    "\n",
    "Os valores estimados para $\\bar{p}$ devem ser aproximadamente:\n",
    "\n",
    "    [9.742296, 52.57738183]\n",
    "\n",
    "O gráfico deve ser parecido com o abaixo:\n",
    "\n",
    "![images/solucao-esperada.png](images/solucao-esperada.png)\n"
   ]
  },
  {
   "cell_type": "markdown",
   "metadata": {},
   "source": [
    "## Tarefa Bônus\n",
    "\n",
    "\n",
    "Podemos utilizar o  método dos mínimos quadrados para ajustar qualquer equação que seja linear com relação as parâmetros ($a$ e $b$ no caso da reta). Isso quer dizer que podemos ajustar uma parábola:\n",
    "\n",
    "$$\n",
    "d_i = ax_i^2 + bx + c\n",
    "$$\n",
    "\n",
    "Dessa vez, os parâmetros que queremos estimar são $a$, $b$ e $c$. Note que agora temos 3 parâmetros, não 2. Por isso, a Jacobiana terá 3 colunas ao invés de 2.\n",
    "\n",
    "Faça ao menos as seguintes funções:\n",
    "\n",
    "* `jacobiana_parabola`: calcula e retorna a matriz Jacobiana para o caso da parábola. Deve receber como argumento somente o vetor de coordenadas x.\n",
    "* `ajuste_parabola`: calcula a solução de mínimos quadrados para o caso de uma parábola. Deve receber como argumento o vetor de coordenadas x e o vetor de dados. Deve retornar o vetor de parâmetros $\\bar{p}$ estimado (contem os valores de $a$, $b$ e $c$)\n",
    "\n",
    "Teste suas funções com os dados gerados abaixo. Note que estamos usando o mesmo vetor x. Gere gráficos dos dados fabricados e também dos dados preditos pela estimativa (como os que foram feitos acima).\n",
    "\n",
    "O que acontece se você tentar ajustar uma reta aos dados da parábola? E se tentar ajustar uma parábola aos dados da reta?\n",
    "\n",
    "**Dicas**:\n",
    "\n",
    "* Você precisa criar outras funções para montar o sistema de equações normais e calcular a solução do sistema?"
   ]
  },
  {
   "cell_type": "code",
   "execution_count": null,
   "metadata": {
    "collapsed": true
   },
   "outputs": [],
   "source": [
    "#A forma de se resolver o sistema de equações e calcular a solução do sistema para o caso de reta e de parabóla não muda.\n",
    "#O pensamento é o mesmo, mas com mais variavéis e linhas e colunas\n",
    "#Podemos utilizar as funções previamente criadas.\n",
    "#O que muda é a matriz jacobiana e o parâmetro que agora é a,b,c."
   ]
  },
  {
   "cell_type": "code",
   "execution_count": 26,
   "metadata": {
    "collapsed": false
   },
   "outputs": [],
   "source": [
    "a_par, b_par, c_par = 2, 20, 200\n",
    "dados_parabola = a_par*x**2 + b_par*x + c_par + erro"
   ]
  },
  {
   "cell_type": "code",
   "execution_count": 48,
   "metadata": {
    "collapsed": false
   },
   "outputs": [
    {
     "data": {
      "text/plain": [
       "<matplotlib.text.Text at 0x7235860>"
      ]
     },
     "execution_count": 48,
     "metadata": {},
     "output_type": "execute_result"
    },
    {
     "data": {
      "image/png": "[encoded data removed]",
      "text/plain": [
       "<matplotlib.figure.Figure at 0x7280d30>"
      ]
     },
     "metadata": {},
     "output_type": "display_data"
    }
   ],
   "source": [
    "# Cria um gráfico.\n",
    "plt.figure()\n",
    "# Plota os valores das coordenadas x, y em bolas pretas.\n",
    "plt.plot(x, dados_parabola, \"ok\")\n",
    "# Coloca título no gráfico.\n",
    "plt.title(\"Gráfico de Dados\")\n",
    "# Dá título ao eixo x.\n",
    "plt.xlabel(\"Valores\")\n",
    "# Dá título ao eixo y.\n",
    "plt.ylabel(\"Dados Observados\")"
   ]
  },
  {
   "cell_type": "code",
   "execution_count": 27,
   "metadata": {
    "collapsed": true
   },
   "outputs": [],
   "source": [
    "# Criamos uma função que retorna a matriz Jacobiana para caso de parábola\n",
    "def jacobiana_parabola(x):\n",
    "    \"\"\"Cria uma matriz Jacobiana para parábola:\n",
    "    Ex: [[x1²,x1,1],[x2²,x2,1]]...[[xn²,xn,1]]\"\"\"\n",
    "# Criamos esta lista vazia para fazermos a matriz Jacobiana\n",
    "    jacobiana = []\n",
    "# Este loop adiciona linhas no formato x,1 de x1 até xN.\n",
    "    for i in range(N):\n",
    "        jacobiana.append([x[i]*x[i],x[i],1])\n",
    "    return jacobiana"
   ]
  },
  {
   "cell_type": "code",
   "execution_count": 56,
   "metadata": {
    "collapsed": false
   },
   "outputs": [],
   "source": [
    "#varíavel com a matriz gerada pela função\n",
    "jac_par = jacobiana_parabola(x)"
   ]
  },
  {
   "cell_type": "code",
   "execution_count": 31,
   "metadata": {
    "collapsed": true
   },
   "outputs": [],
   "source": [
    "# Define a função ajuste_parabola\n",
    "def ajuste_parabola(x,y):\n",
    "    \"\"\"Retorna a solução dos mínimos quadrados, dando o vetor de parâmetros\"\"\"\n",
    "    vetor = eqnormais_lado_direito(jacobiana_parabola(x),y)\n",
    "    matriz = eqnormais_sistema(jacobiana_parabola(x))\n",
    "    p = elim_gauss(matriz, vetor)\n",
    "    return p"
   ]
  },
  {
   "cell_type": "code",
   "execution_count": 38,
   "metadata": {
    "collapsed": false
   },
   "outputs": [
    {
     "name": "stdout",
     "output_type": "stream",
     "text": [
      "[2.0211512867558628, 18.578975230686243, 214.85807791856433]\n"
     ]
    }
   ],
   "source": [
    "l = ajuste_parabola(x,dados_parabola)\n",
    "print(l)"
   ]
  },
  {
   "cell_type": "code",
   "execution_count": 46,
   "metadata": {
    "collapsed": false
   },
   "outputs": [],
   "source": [
    "\"a_par = {:.4f}\".format(2.0211512867558628)\n",
    "\"b_par = {:.4f}\".format(18.578975230686243)\n",
    "\"c_par = {:.4f}\".format(214.85807791856433)\n",
    "y = a_par*x*x + b_par*x + c_par "
   ]
  },
  {
   "cell_type": "code",
   "execution_count": 47,
   "metadata": {
    "collapsed": false
   },
   "outputs": [
    {
     "data": {
      "text/plain": [
       "<matplotlib.text.Text at 0x7235a20>"
      ]
     },
     "execution_count": 47,
     "metadata": {},
     "output_type": "execute_result"
    },
    {
     "data": {
      "image/png": "[encoded data removed]",
      "text/plain": [
       "<matplotlib.figure.Figure at 0x6e572b0>"
      ]
     },
     "metadata": {},
     "output_type": "display_data"
    }
   ],
   "source": [
    "# Cria um gráfico.\n",
    "plt.figure()\n",
    "# Plota os valores das coordenadas x, y em bolas pretas.\n",
    "plt.plot(x, dados_parabola, \"ok\", label='Dados observados')\n",
    "plt.plot(x, y, \"-r\", linewidth=3, label='y = 2.021x² + 18.57x + 214.85')\n",
    "#legenda\n",
    "legend = plt.legend(loc='upper left', shadow=True, fontsize='large')\n",
    "# Dá título ao eixo x.\n",
    "plt.xlabel(\"x\")\n",
    "# Dá título ao eixo y.\n",
    "plt.ylabel(\"y\")\n"
   ]
  },
  {
   "cell_type": "markdown",
   "metadata": {},
   "source": [
    "### Resultado esperado\n",
    "\n",
    "Os gráficos que você deve gerar deverão ser parecidos com os abaixo:\n",
    "\n",
    "![images/bonus-dados.png](images/bonus-dados.png)\n",
    "![images/bonus-ajuste.png](images/bonus-ajuste.png)"
   ]
  }
 ],
 "metadata": {
  "kernelspec": {
   "display_name": "Python 3",
   "language": "python",
   "name": "python3"
  },
  "language_info": {
   "codemirror_mode": {
    "name": "ipython",
    "version": 3
   },
   "file_extension": ".py",
   "mimetype": "text/x-python",
   "name": "python",
   "nbconvert_exporter": "python",
   "pygments_lexer": "ipython3",
   "version": "3.4.3"
  }
 },
 "nbformat": 4,
 "nbformat_minor": 0
}
